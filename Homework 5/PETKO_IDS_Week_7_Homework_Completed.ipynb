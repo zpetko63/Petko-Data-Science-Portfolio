{
 "cells": [
  {
   "cell_type": "markdown",
   "metadata": {},
   "source": [
    "# Homework 5\n",
    "Zach Petko\n",
    "\n",
    "3/2/2025"
   ]
  },
  {
   "cell_type": "code",
   "execution_count": 2,
   "metadata": {},
   "outputs": [],
   "source": [
    "# import neccesary libraries\n",
    "import pandas as pd\n",
    "import numpy as np\n",
    "from sklearn.model_selection import train_test_split\n",
    "from sklearn.linear_model import LinearRegression\n",
    "from sklearn.metrics import mean_squared_error, root_mean_squared_error, r2_score\n"
   ]
  },
  {
   "cell_type": "markdown",
   "metadata": {},
   "source": [
    "### Part 1: Data Loading and Exploration"
   ]
  },
  {
   "cell_type": "code",
   "execution_count": 3,
   "metadata": {},
   "outputs": [],
   "source": [
    "# 1. Load the California Housing dataset from sklearn.datasets.\n",
    "from sklearn.datasets import fetch_california_housing\n",
    "\n",
    "# Load the housing dataset\n",
    "housing = fetch_california_housing()\n",
    "\n"
   ]
  },
  {
   "cell_type": "code",
   "execution_count": 4,
   "metadata": {},
   "outputs": [],
   "source": [
    "# 2. Create a Pandas DataFrame for the features and a Series for the target variable (med_house_value). \n",
    "X = pd.DataFrame(housing.data, columns=housing.feature_names) \n",
    "y = pd.Series(housing.target, name='med_house_value')"
   ]
  },
  {
   "cell_type": "code",
   "execution_count": 5,
   "metadata": {},
   "outputs": [
    {
     "name": "stdout",
     "output_type": "stream",
     "text": [
      "First 5 rows of X: \n"
     ]
    },
    {
     "data": {
      "text/html": [
       "<div>\n",
       "<style scoped>\n",
       "    .dataframe tbody tr th:only-of-type {\n",
       "        vertical-align: middle;\n",
       "    }\n",
       "\n",
       "    .dataframe tbody tr th {\n",
       "        vertical-align: top;\n",
       "    }\n",
       "\n",
       "    .dataframe thead th {\n",
       "        text-align: right;\n",
       "    }\n",
       "</style>\n",
       "<table border=\"1\" class=\"dataframe\">\n",
       "  <thead>\n",
       "    <tr style=\"text-align: right;\">\n",
       "      <th></th>\n",
       "      <th>MedInc</th>\n",
       "      <th>HouseAge</th>\n",
       "      <th>AveRooms</th>\n",
       "      <th>AveBedrms</th>\n",
       "      <th>Population</th>\n",
       "      <th>AveOccup</th>\n",
       "      <th>Latitude</th>\n",
       "      <th>Longitude</th>\n",
       "    </tr>\n",
       "  </thead>\n",
       "  <tbody>\n",
       "    <tr>\n",
       "      <th>0</th>\n",
       "      <td>8.3252</td>\n",
       "      <td>41.0</td>\n",
       "      <td>6.984127</td>\n",
       "      <td>1.023810</td>\n",
       "      <td>322.0</td>\n",
       "      <td>2.555556</td>\n",
       "      <td>37.88</td>\n",
       "      <td>-122.23</td>\n",
       "    </tr>\n",
       "    <tr>\n",
       "      <th>1</th>\n",
       "      <td>8.3014</td>\n",
       "      <td>21.0</td>\n",
       "      <td>6.238137</td>\n",
       "      <td>0.971880</td>\n",
       "      <td>2401.0</td>\n",
       "      <td>2.109842</td>\n",
       "      <td>37.86</td>\n",
       "      <td>-122.22</td>\n",
       "    </tr>\n",
       "    <tr>\n",
       "      <th>2</th>\n",
       "      <td>7.2574</td>\n",
       "      <td>52.0</td>\n",
       "      <td>8.288136</td>\n",
       "      <td>1.073446</td>\n",
       "      <td>496.0</td>\n",
       "      <td>2.802260</td>\n",
       "      <td>37.85</td>\n",
       "      <td>-122.24</td>\n",
       "    </tr>\n",
       "    <tr>\n",
       "      <th>3</th>\n",
       "      <td>5.6431</td>\n",
       "      <td>52.0</td>\n",
       "      <td>5.817352</td>\n",
       "      <td>1.073059</td>\n",
       "      <td>558.0</td>\n",
       "      <td>2.547945</td>\n",
       "      <td>37.85</td>\n",
       "      <td>-122.25</td>\n",
       "    </tr>\n",
       "    <tr>\n",
       "      <th>4</th>\n",
       "      <td>3.8462</td>\n",
       "      <td>52.0</td>\n",
       "      <td>6.281853</td>\n",
       "      <td>1.081081</td>\n",
       "      <td>565.0</td>\n",
       "      <td>2.181467</td>\n",
       "      <td>37.85</td>\n",
       "      <td>-122.25</td>\n",
       "    </tr>\n",
       "  </tbody>\n",
       "</table>\n",
       "</div>"
      ],
      "text/plain": [
       "   MedInc  HouseAge  AveRooms  AveBedrms  Population  AveOccup  Latitude  \\\n",
       "0  8.3252      41.0  6.984127   1.023810       322.0  2.555556     37.88   \n",
       "1  8.3014      21.0  6.238137   0.971880      2401.0  2.109842     37.86   \n",
       "2  7.2574      52.0  8.288136   1.073446       496.0  2.802260     37.85   \n",
       "3  5.6431      52.0  5.817352   1.073059       558.0  2.547945     37.85   \n",
       "4  3.8462      52.0  6.281853   1.081081       565.0  2.181467     37.85   \n",
       "\n",
       "   Longitude  \n",
       "0    -122.23  \n",
       "1    -122.22  \n",
       "2    -122.24  \n",
       "3    -122.25  \n",
       "4    -122.25  "
      ]
     },
     "metadata": {},
     "output_type": "display_data"
    },
    {
     "name": "stdout",
     "output_type": "stream",
     "text": [
      "First 5 rows of y: \n"
     ]
    },
    {
     "data": {
      "text/plain": [
       "0    4.526\n",
       "1    3.585\n",
       "2    3.521\n",
       "3    3.413\n",
       "4    3.422\n",
       "Name: med_house_value, dtype: float64"
      ]
     },
     "metadata": {},
     "output_type": "display_data"
    },
    {
     "name": "stdout",
     "output_type": "stream",
     "text": [
      "Column Names: ['MedInc', 'HouseAge', 'AveRooms', 'AveBedrms', 'Population', 'AveOccup', 'Latitude', 'Longitude'] \n",
      "\n",
      "Number of NA values in each column of X: \n"
     ]
    },
    {
     "data": {
      "text/plain": [
       "MedInc        0\n",
       "HouseAge      0\n",
       "AveRooms      0\n",
       "AveBedrms     0\n",
       "Population    0\n",
       "AveOccup      0\n",
       "Latitude      0\n",
       "Longitude     0\n",
       "dtype: int64"
      ]
     },
     "metadata": {},
     "output_type": "display_data"
    },
    {
     "name": "stdout",
     "output_type": "stream",
     "text": [
      "Summary Statistics for X: \n"
     ]
    },
    {
     "data": {
      "text/html": [
       "<div>\n",
       "<style scoped>\n",
       "    .dataframe tbody tr th:only-of-type {\n",
       "        vertical-align: middle;\n",
       "    }\n",
       "\n",
       "    .dataframe tbody tr th {\n",
       "        vertical-align: top;\n",
       "    }\n",
       "\n",
       "    .dataframe thead th {\n",
       "        text-align: right;\n",
       "    }\n",
       "</style>\n",
       "<table border=\"1\" class=\"dataframe\">\n",
       "  <thead>\n",
       "    <tr style=\"text-align: right;\">\n",
       "      <th></th>\n",
       "      <th>MedInc</th>\n",
       "      <th>HouseAge</th>\n",
       "      <th>AveRooms</th>\n",
       "      <th>AveBedrms</th>\n",
       "      <th>Population</th>\n",
       "      <th>AveOccup</th>\n",
       "      <th>Latitude</th>\n",
       "      <th>Longitude</th>\n",
       "    </tr>\n",
       "  </thead>\n",
       "  <tbody>\n",
       "    <tr>\n",
       "      <th>count</th>\n",
       "      <td>20640.000000</td>\n",
       "      <td>20640.000000</td>\n",
       "      <td>20640.000000</td>\n",
       "      <td>20640.000000</td>\n",
       "      <td>20640.000000</td>\n",
       "      <td>20640.000000</td>\n",
       "      <td>20640.000000</td>\n",
       "      <td>20640.000000</td>\n",
       "    </tr>\n",
       "    <tr>\n",
       "      <th>mean</th>\n",
       "      <td>3.870671</td>\n",
       "      <td>28.639486</td>\n",
       "      <td>5.429000</td>\n",
       "      <td>1.096675</td>\n",
       "      <td>1425.476744</td>\n",
       "      <td>3.070655</td>\n",
       "      <td>35.631861</td>\n",
       "      <td>-119.569704</td>\n",
       "    </tr>\n",
       "    <tr>\n",
       "      <th>std</th>\n",
       "      <td>1.899822</td>\n",
       "      <td>12.585558</td>\n",
       "      <td>2.474173</td>\n",
       "      <td>0.473911</td>\n",
       "      <td>1132.462122</td>\n",
       "      <td>10.386050</td>\n",
       "      <td>2.135952</td>\n",
       "      <td>2.003532</td>\n",
       "    </tr>\n",
       "    <tr>\n",
       "      <th>min</th>\n",
       "      <td>0.499900</td>\n",
       "      <td>1.000000</td>\n",
       "      <td>0.846154</td>\n",
       "      <td>0.333333</td>\n",
       "      <td>3.000000</td>\n",
       "      <td>0.692308</td>\n",
       "      <td>32.540000</td>\n",
       "      <td>-124.350000</td>\n",
       "    </tr>\n",
       "    <tr>\n",
       "      <th>25%</th>\n",
       "      <td>2.563400</td>\n",
       "      <td>18.000000</td>\n",
       "      <td>4.440716</td>\n",
       "      <td>1.006079</td>\n",
       "      <td>787.000000</td>\n",
       "      <td>2.429741</td>\n",
       "      <td>33.930000</td>\n",
       "      <td>-121.800000</td>\n",
       "    </tr>\n",
       "    <tr>\n",
       "      <th>50%</th>\n",
       "      <td>3.534800</td>\n",
       "      <td>29.000000</td>\n",
       "      <td>5.229129</td>\n",
       "      <td>1.048780</td>\n",
       "      <td>1166.000000</td>\n",
       "      <td>2.818116</td>\n",
       "      <td>34.260000</td>\n",
       "      <td>-118.490000</td>\n",
       "    </tr>\n",
       "    <tr>\n",
       "      <th>75%</th>\n",
       "      <td>4.743250</td>\n",
       "      <td>37.000000</td>\n",
       "      <td>6.052381</td>\n",
       "      <td>1.099526</td>\n",
       "      <td>1725.000000</td>\n",
       "      <td>3.282261</td>\n",
       "      <td>37.710000</td>\n",
       "      <td>-118.010000</td>\n",
       "    </tr>\n",
       "    <tr>\n",
       "      <th>max</th>\n",
       "      <td>15.000100</td>\n",
       "      <td>52.000000</td>\n",
       "      <td>141.909091</td>\n",
       "      <td>34.066667</td>\n",
       "      <td>35682.000000</td>\n",
       "      <td>1243.333333</td>\n",
       "      <td>41.950000</td>\n",
       "      <td>-114.310000</td>\n",
       "    </tr>\n",
       "  </tbody>\n",
       "</table>\n",
       "</div>"
      ],
      "text/plain": [
       "             MedInc      HouseAge      AveRooms     AveBedrms    Population  \\\n",
       "count  20640.000000  20640.000000  20640.000000  20640.000000  20640.000000   \n",
       "mean       3.870671     28.639486      5.429000      1.096675   1425.476744   \n",
       "std        1.899822     12.585558      2.474173      0.473911   1132.462122   \n",
       "min        0.499900      1.000000      0.846154      0.333333      3.000000   \n",
       "25%        2.563400     18.000000      4.440716      1.006079    787.000000   \n",
       "50%        3.534800     29.000000      5.229129      1.048780   1166.000000   \n",
       "75%        4.743250     37.000000      6.052381      1.099526   1725.000000   \n",
       "max       15.000100     52.000000    141.909091     34.066667  35682.000000   \n",
       "\n",
       "           AveOccup      Latitude     Longitude  \n",
       "count  20640.000000  20640.000000  20640.000000  \n",
       "mean       3.070655     35.631861   -119.569704  \n",
       "std       10.386050      2.135952      2.003532  \n",
       "min        0.692308     32.540000   -124.350000  \n",
       "25%        2.429741     33.930000   -121.800000  \n",
       "50%        2.818116     34.260000   -118.490000  \n",
       "75%        3.282261     37.710000   -118.010000  \n",
       "max     1243.333333     41.950000   -114.310000  "
      ]
     },
     "metadata": {},
     "output_type": "display_data"
    }
   ],
   "source": [
    "# 3. Perform an initial exploration of the dataset:\n",
    "\n",
    "## Display the first five rows of the dataset\n",
    "print(\"First 5 rows of X: \")\n",
    "display(X.head())\n",
    "print(\"First 5 rows of y: \")\n",
    "display(y.head())\n",
    "\n",
    "## Print the feature names and check for missing values\n",
    "print(f\"Column Names: {X.columns.tolist()} \\n\")\n",
    "print(\"Number of NA values in each column of X: \")\n",
    "display(X.isna().sum())\n",
    "\n",
    "## Generate summary statistics (mean, min, max, etc.)\n",
    "print(\"Summary Statistics for X: \")\n",
    "display(X.describe())\n"
   ]
  },
  {
   "cell_type": "markdown",
   "metadata": {},
   "source": [
    "## Part 2: Linear Regression on Unscaled Data"
   ]
  },
  {
   "cell_type": "code",
   "execution_count": 6,
   "metadata": {},
   "outputs": [],
   "source": [
    "# 4. Split the dataset into training and test sets (80% training, 20% testing).\n",
    "\n",
    "X_train, X_test, y_train, y_test = train_test_split(X, y, test_size=0.2, random_state=42)\n"
   ]
  },
  {
   "cell_type": "code",
   "execution_count": 7,
   "metadata": {},
   "outputs": [
    {
     "name": "stdout",
     "output_type": "stream",
     "text": [
      "Linear Regression Summary: \n"
     ]
    },
    {
     "data": {
      "text/html": [
       "<div>\n",
       "<style scoped>\n",
       "    .dataframe tbody tr th:only-of-type {\n",
       "        vertical-align: middle;\n",
       "    }\n",
       "\n",
       "    .dataframe tbody tr th {\n",
       "        vertical-align: top;\n",
       "    }\n",
       "\n",
       "    .dataframe thead th {\n",
       "        text-align: right;\n",
       "    }\n",
       "</style>\n",
       "<table border=\"1\" class=\"dataframe\">\n",
       "  <thead>\n",
       "    <tr style=\"text-align: right;\">\n",
       "      <th></th>\n",
       "      <th>Variable</th>\n",
       "      <th>Coefficent</th>\n",
       "    </tr>\n",
       "  </thead>\n",
       "  <tbody>\n",
       "    <tr>\n",
       "      <th>0</th>\n",
       "      <td>Intercept</td>\n",
       "      <td>-37.023278</td>\n",
       "    </tr>\n",
       "    <tr>\n",
       "      <th>1</th>\n",
       "      <td>MedInc</td>\n",
       "      <td>0.448675</td>\n",
       "    </tr>\n",
       "    <tr>\n",
       "      <th>2</th>\n",
       "      <td>HouseAge</td>\n",
       "      <td>0.009724</td>\n",
       "    </tr>\n",
       "    <tr>\n",
       "      <th>3</th>\n",
       "      <td>AveRooms</td>\n",
       "      <td>-0.123323</td>\n",
       "    </tr>\n",
       "    <tr>\n",
       "      <th>4</th>\n",
       "      <td>AveBedrms</td>\n",
       "      <td>0.783145</td>\n",
       "    </tr>\n",
       "    <tr>\n",
       "      <th>5</th>\n",
       "      <td>Population</td>\n",
       "      <td>-0.000002</td>\n",
       "    </tr>\n",
       "    <tr>\n",
       "      <th>6</th>\n",
       "      <td>AveOccup</td>\n",
       "      <td>-0.003526</td>\n",
       "    </tr>\n",
       "    <tr>\n",
       "      <th>7</th>\n",
       "      <td>Latitude</td>\n",
       "      <td>-0.419792</td>\n",
       "    </tr>\n",
       "    <tr>\n",
       "      <th>8</th>\n",
       "      <td>Longitude</td>\n",
       "      <td>-0.433708</td>\n",
       "    </tr>\n",
       "  </tbody>\n",
       "</table>\n",
       "</div>"
      ],
      "text/plain": [
       "     Variable  Coefficent\n",
       "0   Intercept  -37.023278\n",
       "1      MedInc    0.448675\n",
       "2    HouseAge    0.009724\n",
       "3    AveRooms   -0.123323\n",
       "4   AveBedrms    0.783145\n",
       "5  Population   -0.000002\n",
       "6    AveOccup   -0.003526\n",
       "7    Latitude   -0.419792\n",
       "8   Longitude   -0.433708"
      ]
     },
     "metadata": {},
     "output_type": "display_data"
    }
   ],
   "source": [
    "# 5. Train a linear regression model on the unscaled data using\n",
    "\n",
    "lin_reg = LinearRegression()\n",
    "lin_reg.fit(X_train, y_train)\n",
    "print(\"Linear Regression Summary: \")\n",
    "lin_reg_summary = pd.DataFrame({\n",
    "    \"Variable\": ['Intercept', 'MedInc', 'HouseAge', 'AveRooms', 'AveBedrms', \n",
    "                 'Population', 'AveOccup', 'Latitude', 'Longitude'],\n",
    "    \"Coefficent\": [lin_reg.intercept_] + list(lin_reg.coef_)\n",
    "})\n",
    "display(lin_reg_summary)\n"
   ]
  },
  {
   "cell_type": "code",
   "execution_count": 8,
   "metadata": {},
   "outputs": [
    {
     "name": "stdout",
     "output_type": "stream",
     "text": [
      "Predictions of y using Linear Regression: \n",
      "[0.71912284 1.76401657 2.70965883 ... 4.46877017 1.18751119 2.00940251]\n"
     ]
    }
   ],
   "source": [
    "# 6. Make predictions on the test set\n",
    "\n",
    "y_pred = lin_reg.predict(X_test)\n",
    "print(\"Predictions of y using Linear Regression: \")\n",
    "print(y_pred)"
   ]
  },
  {
   "cell_type": "code",
   "execution_count": 9,
   "metadata": {},
   "outputs": [
    {
     "name": "stdout",
     "output_type": "stream",
     "text": [
      "Unscaled Data Model:\n",
      "Mean Squared Error: 0.56\n",
      "Root Squared Error: 0.75\n",
      "R² Score: 0.58\n"
     ]
    }
   ],
   "source": [
    "# 7. Evaluate model performance using...\n",
    "\n",
    "# Mean Squared Error (MSE)\n",
    "mse = mean_squared_error(y_test, y_pred)\n",
    "print(\"Unscaled Data Model:\")\n",
    "print(f\"Mean Squared Error: {mse:.2f}\")\n",
    "\n",
    "# Root Mean Squared Error (RMSE)\n",
    "rmse = root_mean_squared_error(y_test, y_pred)\n",
    "print(f\"Root Squared Error: {rmse:.2f}\")\n",
    "\n",
    "# R^2 Score\n",
    "r2 = r2_score(y_test, y_pred)\n",
    "print(f\"R² Score: {r2:.2f}\")"
   ]
  },
  {
   "cell_type": "markdown",
   "metadata": {},
   "source": [
    "8. Interpretation Questions:"
   ]
  },
  {
   "cell_type": "markdown",
   "metadata": {},
   "source": [
    "What does the R² score tell us about model performance?\n",
    "\n",
    "    - The R² value of 0.58 means that 58% of the variation in y is explained by using the variables in X used in the linear regression model. \n",
    "\n",
    "Which features seem to have the strongest impact on predictions based on the model’s coefficients?\n",
    "\n",
    "    - The 3 variables with the largest impact on the Median Housing Value is in descending order AveBedrms(0.783145), MedInc(0.448675), and Longitude(-0.433708). This is beacuse these are the three variables with the highest estimated coeficents in abosulte value. This means that a 1 unit change in these variables will have the highest change in the y variable (Median Housing Value).\n",
    "\n",
    "    - AveBedrms(average bedrooms) has the largest coeficent in aboslute value and is positive. This means that AveBedrms has the largest 1 unit change effect on Median Housing Value. So, 1 additional average bedroom predicts a 0.783145 increase in median housing value.\n",
    "\n",
    "     - MedInc(median income) is positive. So, 1 additional unit of median income predicts a 0.448675 increase in median housing value.\n",
    "\n",
    "     - Longitude is negative. So, 1 additional unit of longitude predicts a 0.433708 decrease in median housing value.\n",
    "\n",
    "\n",
    "How well do the predicted values match the actual values?\n",
    "\n",
    "    - The MSE value is 0.56. This means that the average squared error between the prdicted and actual values is 0.56. A lower value is better, but the RMSE is easier to interpret. The RMSE value is 0.75. This means that on average the predicted value from our model is off by 0.75 units from the actual value. When considering the values of y, our model does a reasonably good job of predicting the actual values.\n",
    "\n",
    "    - As discussed above, the R² means that our model using the independent X variables explains about 58% of the variation in y. This is not extraordinarily high but is reasonable considering the area of study. Overall the model does a mmoderately good job of predicting the actual values."
   ]
  },
  {
   "cell_type": "markdown",
   "metadata": {},
   "source": [
    "## Part 3: Scaled Model"
   ]
  },
  {
   "cell_type": "code",
   "execution_count": 10,
   "metadata": {},
   "outputs": [
    {
     "name": "stdout",
     "output_type": "stream",
     "text": [
      "Scaled Data Model:\n",
      "Mean Squared Error: 0.56\n",
      "Root Squared Error: 0.75\n",
      "R² Score: 0.58\n",
      "Model Coefficients (Scaled):\n",
      "MedInc        0.852382\n",
      "HouseAge      0.122382\n",
      "AveRooms     -0.305116\n",
      "AveBedrms     0.371132\n",
      "Population   -0.002298\n",
      "AveOccup     -0.036624\n",
      "Latitude     -0.896635\n",
      "Longitude    -0.868927\n",
      "dtype: float64\n"
     ]
    }
   ],
   "source": [
    "from sklearn.preprocessing import StandardScaler\n",
    "\n",
    "# Initialize the scaler and apply it to the features\n",
    "scaler = StandardScaler()\n",
    "X_scaled = scaler.fit_transform(X)\n",
    "X_scaled = pd.DataFrame(X_scaled, columns=X.columns)\n",
    "X_scaled\n",
    "\n",
    "# Split Scaled Data\n",
    "X_train_scaled,X_test_scaled, y_train_scaled, y_test_scaled =train_test_split(X_scaled,y,test_size=0.2, random_state=42)\n",
    "\n",
    "# Fit the scaled data\n",
    "lin_reg_scaled = LinearRegression()\n",
    "lin_reg_scaled.fit(X_train_scaled, y_train_scaled)\n",
    "\n",
    "# Make Predictions\n",
    "y_pred_scaled = lin_reg_scaled.predict(X_test_scaled)\n",
    "y_pred_scaled\n",
    "\n",
    "# Evaluate model performance\n",
    "mse = mean_squared_error(y_test_scaled, y_pred_scaled)\n",
    "rmse = root_mean_squared_error(y_test_scaled, y_pred_scaled)\n",
    "r2 = r2_score(y_test_scaled, y_pred_scaled)\n",
    "\n",
    "print(\"Scaled Data Model:\")\n",
    "print(f\"Mean Squared Error: {mse:.2f}\")\n",
    "print(f\"Root Squared Error: {rmse:.2f}\")\n",
    "print(f\"R² Score: {r2:.2f}\")\n",
    "print(\"Model Coefficients (Scaled):\")\n",
    "print(pd.Series(lin_reg_scaled.coef_, index=X.columns))"
   ]
  },
  {
   "cell_type": "markdown",
   "metadata": {},
   "source": [
    "## Part 4: Feature Selection and Simplified Model"
   ]
  },
  {
   "cell_type": "markdown",
   "metadata": {},
   "source": [
    " 13. Select three features from the dataset to build a simplified model. Explain your choice. \n",
    "\n",
    "    - For the simplified model, I will choose the following variables: AveBedrms, MedInc, and AveRooms. This is because they have the highest coefficent values in absolute values (apart for latetude and longitude) and they seem to have the most intuitive relationship with housing price. Although the latetude and longitude have higher coefficent values, I chose to avoid them due to the difficulty in interpreting these variables. "
   ]
  },
  {
   "cell_type": "code",
   "execution_count": 11,
   "metadata": {},
   "outputs": [
    {
     "name": "stdout",
     "output_type": "stream",
     "text": [
      "Linear Regression Summary: \n"
     ]
    },
    {
     "data": {
      "text/html": [
       "<div>\n",
       "<style scoped>\n",
       "    .dataframe tbody tr th:only-of-type {\n",
       "        vertical-align: middle;\n",
       "    }\n",
       "\n",
       "    .dataframe tbody tr th {\n",
       "        vertical-align: top;\n",
       "    }\n",
       "\n",
       "    .dataframe thead th {\n",
       "        text-align: right;\n",
       "    }\n",
       "</style>\n",
       "<table border=\"1\" class=\"dataframe\">\n",
       "  <thead>\n",
       "    <tr style=\"text-align: right;\">\n",
       "      <th></th>\n",
       "      <th>Variable</th>\n",
       "      <th>Coefficent</th>\n",
       "    </tr>\n",
       "  </thead>\n",
       "  <tbody>\n",
       "    <tr>\n",
       "      <th>0</th>\n",
       "      <td>Intercept</td>\n",
       "      <td>0.021819</td>\n",
       "    </tr>\n",
       "    <tr>\n",
       "      <th>1</th>\n",
       "      <td>AveBedrms</td>\n",
       "      <td>1.170217</td>\n",
       "    </tr>\n",
       "    <tr>\n",
       "      <th>2</th>\n",
       "      <td>MedInc</td>\n",
       "      <td>0.542349</td>\n",
       "    </tr>\n",
       "    <tr>\n",
       "      <th>3</th>\n",
       "      <td>AveRooms</td>\n",
       "      <td>-0.246163</td>\n",
       "    </tr>\n",
       "  </tbody>\n",
       "</table>\n",
       "</div>"
      ],
      "text/plain": [
       "    Variable  Coefficent\n",
       "0  Intercept    0.021819\n",
       "1  AveBedrms    1.170217\n",
       "2     MedInc    0.542349\n",
       "3   AveRooms   -0.246163"
      ]
     },
     "metadata": {},
     "output_type": "display_data"
    }
   ],
   "source": [
    "# 14. Train a new linear regression model using only these three features.\n",
    "\n",
    "#select relevent columns\n",
    "X_train2 = X_train[['AveBedrms', 'MedInc', 'AveRooms']] \n",
    "X_test2 = X_test[['AveBedrms', 'MedInc', 'AveRooms']]\n",
    "\n",
    "#run regression\n",
    "lin_reg2 = LinearRegression()\n",
    "lin_reg2.fit(X_train2, y_train)\n",
    "print(\"Linear Regression Summary: \")\n",
    "lin_reg2_summary = pd.DataFrame({\n",
    "    \"Variable\": ['Intercept', 'AveBedrms', 'MedInc', 'AveRooms'],\n",
    "    \"Coefficent\": [lin_reg2.intercept_] + list(lin_reg2.coef_)\n",
    "})\n",
    "display(lin_reg2_summary)"
   ]
  },
  {
   "cell_type": "code",
   "execution_count": 12,
   "metadata": {},
   "outputs": [
    {
     "name": "stdout",
     "output_type": "stream",
     "text": [
      "Predictions of y using Simplified Linear Regression: \n",
      "[1.09794478 1.55080224 2.31795302 ... 4.35435412 1.38076318 2.17579031]\n",
      "\n",
      "Summary Statistics Comparison:\n"
     ]
    },
    {
     "data": {
      "text/html": [
       "<div>\n",
       "<style scoped>\n",
       "    .dataframe tbody tr th:only-of-type {\n",
       "        vertical-align: middle;\n",
       "    }\n",
       "\n",
       "    .dataframe tbody tr th {\n",
       "        vertical-align: top;\n",
       "    }\n",
       "\n",
       "    .dataframe thead th {\n",
       "        text-align: right;\n",
       "    }\n",
       "</style>\n",
       "<table border=\"1\" class=\"dataframe\">\n",
       "  <thead>\n",
       "    <tr style=\"text-align: right;\">\n",
       "      <th></th>\n",
       "      <th>Variable</th>\n",
       "      <th>Big Model</th>\n",
       "      <th>Simplified Model</th>\n",
       "    </tr>\n",
       "  </thead>\n",
       "  <tbody>\n",
       "    <tr>\n",
       "      <th>0</th>\n",
       "      <td>MSE</td>\n",
       "      <td>0.555892</td>\n",
       "      <td>0.675854</td>\n",
       "    </tr>\n",
       "    <tr>\n",
       "      <th>1</th>\n",
       "      <td>RMSE</td>\n",
       "      <td>0.745581</td>\n",
       "      <td>0.822104</td>\n",
       "    </tr>\n",
       "    <tr>\n",
       "      <th>2</th>\n",
       "      <td>R^2</td>\n",
       "      <td>0.575788</td>\n",
       "      <td>0.484242</td>\n",
       "    </tr>\n",
       "  </tbody>\n",
       "</table>\n",
       "</div>"
      ],
      "text/plain": [
       "  Variable  Big Model  Simplified Model\n",
       "0      MSE   0.555892          0.675854\n",
       "1     RMSE   0.745581          0.822104\n",
       "2      R^2   0.575788          0.484242"
      ]
     },
     "metadata": {},
     "output_type": "display_data"
    }
   ],
   "source": [
    "# 15. Evaluate the performance of this simplified model and compare it to the full model\n",
    "\n",
    "#create predictions\n",
    "y_pred2 = lin_reg2.predict(X_test2)\n",
    "print(\"Predictions of y using Simplified Linear Regression: \")\n",
    "print(y_pred2)\n",
    "\n",
    "#get performance stats\n",
    "\n",
    "# Mean Squared Error (MSE)\n",
    "mse2 = mean_squared_error(y_test, y_pred2)\n",
    "\n",
    "# Root Mean Squared Error (RMSE)\n",
    "rmse2 = root_mean_squared_error(y_test, y_pred2)\n",
    "\n",
    "# R^2 Score\n",
    "r22 = r2_score(y_test, y_pred2)\n",
    "\n",
    "#Create comparison table\n",
    "perf_summary = pd.DataFrame({\n",
    "    \"Variable\": ['MSE', 'RMSE', 'R^2'],\n",
    "    \"Big Model\": [mse,rmse,r2],\n",
    "    \"Simplified Model\": [mse2,rmse2,r22]\n",
    "})\n",
    "print(\"\\nSummary Statistics Comparison:\")\n",
    "display(perf_summary)"
   ]
  },
  {
   "cell_type": "markdown",
   "metadata": {},
   "source": [
    "We see that the simplified model is worse in all of the considered statistics (MSE, RMSE, and R²). This means that although this model is smaller, it does not fit the testing data as well as the larger model with more independent variables. This is because the MSE and RMSE is larger in the simplified model than the big model, meaning that on average the error is larger in the simplified model. Additionally, the lower R² in the simplified model means that the simplified model explains less variance than the larger model. Therefore the big model has much better performance than the simplified model."
   ]
  },
  {
   "cell_type": "markdown",
   "metadata": {},
   "source": [
    "16. Interpretation Questions:"
   ]
  },
  {
   "cell_type": "markdown",
   "metadata": {},
   "source": [
    "How does the simplified model compare to the full model?\n",
    "\n",
    "    - As discussed above, the simplified has less coeficents and is smaller but is less powerful as a predictive model since it performs much worse in on the testing dataset. The simplified model is more efficent since there are less calculations required to estimate the model and then less to estimate y. However, linear regression is not very computationally intensive so this should not make a huge difference in reality.\n",
    "\n",
    "Would you use this simplified model in practice? Why or why not?\n",
    "\n",
    "    - I would not use the simplified model soley based on its performance. For a linear regression model, it does not perform well enough on the training data and its errors are far to large to be effecive in practice. I think with some modifications there could be a good model created, but I would not feel comfortable using this one in practice.\n"
   ]
  }
 ],
 "metadata": {
  "kernelspec": {
   "display_name": "base",
   "language": "python",
   "name": "python3"
  },
  "language_info": {
   "codemirror_mode": {
    "name": "ipython",
    "version": 3
   },
   "file_extension": ".py",
   "mimetype": "text/x-python",
   "name": "python",
   "nbconvert_exporter": "python",
   "pygments_lexer": "ipython3",
   "version": "3.12.7"
  }
 },
 "nbformat": 4,
 "nbformat_minor": 2
}
