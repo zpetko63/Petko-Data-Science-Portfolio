{
 "cells": [
  {
   "cell_type": "markdown",
   "metadata": {
    "id": "RdoTAcVjo1Jo"
   },
   "source": [
    "# Introduction to Testing in Python\n",
    "\n",
    "## Why Test Code?\n",
    "- Testing ensures your code behaves as expected.\n",
    "- It helps you catch errors early, saving time in debugging.\n",
    "- Good testing improves code quality and makes collaboration easier.\n",
    "\n",
    "## Types of Tests\n",
    "- **Unit Tests**: Test individual functions or methods.\n",
    "- **Integration Tests**: Test how components work together.\n",
    "- **End-to-End Tests**: Simulate user interactions in a full application.\n",
    "\n",
    "## What Will You Learn Today?\n",
    "1. How to write and run tests using Python’s `pytest`.\n",
    "2. How to handle edge cases through testing.\n",
    "3. How to collaborate to design and implement new tests.\n",
    "\n",
    "Let's start by writing a small program and testing it."
   ]
  },
  {
   "cell_type": "code",
   "execution_count": 4,
   "metadata": {
    "id": "1EA-VLIHo-d8"
   },
   "outputs": [],
   "source": [
    "# Starter Code: DataAnalyzer Class\n",
    "import statistics\n",
    "\n",
    "class DataAnalyzer:\n",
    "    def __init__(self, data):\n",
    "        \"\"\"\n",
    "        Initializes the DataAnalyzer with a list of numeric values.\n",
    "        \"\"\"\n",
    "        self.data=data\n",
    "\n",
    "    def mean(self):\n",
    "        \"\"\"Calculates the mean of the numeric data.\"\"\"\n",
    "        return statistics.mean(self.data)"
   ]
  },
  {
   "cell_type": "code",
   "execution_count": 5,
   "metadata": {},
   "outputs": [
    {
     "data": {
      "text/plain": [
       "5"
      ]
     },
     "execution_count": 5,
     "metadata": {},
     "output_type": "execute_result"
    }
   ],
   "source": [
    "first_class = DataAnalyzer([4,5,6])\n",
    "first_class.mean()"
   ]
  },
  {
   "cell_type": "markdown",
   "metadata": {
    "id": "hFz9OjkfpE5a"
   },
   "source": [
    "## Writing Your First Test\n",
    "\n",
    "Testing in Python often uses the `pytest` library. Let's write our first test for the `mean` method in the `DataAnalyzer` class.\n",
    "\n",
    "- **Arrange**: Set up the input data.\n",
    "- **Act**: Call the function you want to test.\n",
    "- **Assert**: Verify that the result matches your expectations."
   ]
  },
  {
   "cell_type": "code",
   "execution_count": 6,
   "metadata": {
    "id": "BS9Gzxv6pDje"
   },
   "outputs": [],
   "source": [
    "# First Test: test_mean\n",
    "def test_mean(data_list, mean_value):\n",
    "    \"\"\"\n",
    "    Tests the mean function of DataAnalyzer with a list of numbers\n",
    "    \"\"\"\n",
    "    analyzer = DataAnalyzer(data_list)\n",
    "    assert analyzer.mean() == mean_value\n"
   ]
  },
  {
   "cell_type": "code",
   "execution_count": 7,
   "metadata": {
    "colab": {
     "base_uri": "https://localhost:8080/"
    },
    "executionInfo": {
     "elapsed": 174,
     "status": "ok",
     "timestamp": 1737630082536,
     "user": {
      "displayName": "David Smiley",
      "userId": "04196970161563073370"
     },
     "user_tz": 300
    },
    "id": "FPIyDQ6RpK_B",
    "outputId": "b335ebbc-a67b-4c4d-f5e7-2a5815f633b1"
   },
   "outputs": [
    {
     "name": "stdout",
     "output_type": "stream",
     "text": [
      "test_mean passed!\n"
     ]
    }
   ],
   "source": [
    "# Run the test\n",
    "#try-except clause\n",
    "try:\n",
    "    test_mean([25,50,75], 50)\n",
    "    print(\"test_mean passed!\")\n",
    "except AssertionError:\n",
    "    print(f\"test_mean failed!\")"
   ]
  },
  {
   "cell_type": "code",
   "execution_count": null,
   "metadata": {},
   "outputs": [],
   "source": []
  },
  {
   "cell_type": "markdown",
   "metadata": {
    "id": "96YeUygspXc_"
   },
   "source": [
    "## Adding `median` and `mode` Methods\n",
    "\n",
    "Now, let's extend the `DataAnalyzer` class by adding a method to calculate the median.\n",
    "Afterward, we will write a new test for this method."
   ]
  },
  {
   "cell_type": "code",
   "execution_count": 8,
   "metadata": {
    "id": "ufJqQm7ppaWo"
   },
   "outputs": [
    {
     "name": "stdout",
     "output_type": "stream",
     "text": [
      "test_median passed!\n",
      "test_mode passed!\n"
     ]
    }
   ],
   "source": [
    "# Modify DataAnalyzer: Add median method\n",
    "class DataAnalyzer:\n",
    "    def __init__(self, data):\n",
    "        self.data = data\n",
    "\n",
    "    def mean(self):\n",
    "        return statistics.mean(self.data)\n",
    "\n",
    "    def median(self):\n",
    "        \"\"\"Calculates the median of the numeric data.\"\"\"\n",
    "        return statistics.median(self.data)\n",
    "\n",
    "    def mode(self):\n",
    "        \"\"\"Calculates the median of the numeric data.\"\"\"\n",
    "        return statistics.mode(self.data)\n",
    "\n",
    "# Create test function for median\n",
    "def test_median(data_list, median_value):\n",
    "    analyzer = DataAnalyzer(data_list)\n",
    "    assert analyzer.median() == median_value\n",
    "\n",
    "# Create test function for mode\n",
    "def test_mode(data_list, mode_value):\n",
    "    analyzer = DataAnalyzer(data_list)\n",
    "    assert analyzer.mode() == mode_value\n",
    "\n",
    "\n",
    "# Run test functions\n",
    "\n",
    "## Median\n",
    "try:\n",
    "    test_median([1,2,4,5,78], 4)\n",
    "    print(\"test_median passed!\")\n",
    "except AssertionError:\n",
    "    print(\"test_median failed!\")\n",
    "\n",
    "## Mode\n",
    "try:\n",
    "    test_mode([1,2,2,2,50], 2)\n",
    "    print(\"test_mode passed!\")\n",
    "except AssertionError:\n",
    "    print(\"test_mode failed!\")\n"
   ]
  },
  {
   "cell_type": "code",
   "execution_count": 9,
   "metadata": {},
   "outputs": [
    {
     "name": "stdout",
     "output_type": "stream",
     "text": [
      "test_mode passed!\n"
     ]
    }
   ],
   "source": [
    "#Test all\n",
    "try:\n",
    "    test_mean([25,50,75], 50)\n",
    "    test_median([1,2,2,2,50], 2)\n",
    "    test_mode([1,2,2,2,50], 2)\n",
    "    print(\"test_mode passed!\")\n",
    "except AssertionError:\n",
    "    print(\"test_mode failed!\")"
   ]
  },
  {
   "cell_type": "markdown",
   "metadata": {
    "id": "HO7wAQRMsZMy"
   },
   "source": [
    "## Investigating Edge Cases\n",
    "\n",
    "What happens if:\n",
    "1. The list of numbers is empty?\n",
    "2. The list contains non-numeric data?\n",
    "\n",
    "Let's write two new test functions to handle these scenarios:\n",
    "- **test_empty_list**\n",
    "- **test_non_numeric_data**"
   ]
  },
  {
   "cell_type": "code",
   "execution_count": 10,
   "metadata": {
    "id": "PmlAAe3N9cdk"
   },
   "outputs": [
    {
     "ename": "StatisticsError",
     "evalue": "mean requires at least one data point",
     "output_type": "error",
     "traceback": [
      "\u001b[1;31m---------------------------------------------------------------------------\u001b[0m",
      "\u001b[1;31mStatisticsError\u001b[0m                           Traceback (most recent call last)",
      "Cell \u001b[1;32mIn[10], line 2\u001b[0m\n\u001b[0;32m      1\u001b[0m empty_list \u001b[38;5;241m=\u001b[39m []\n\u001b[1;32m----> 2\u001b[0m DataAnalyzer(empty_list)\u001b[38;5;241m.\u001b[39mmean()\n",
      "Cell \u001b[1;32mIn[8], line 7\u001b[0m, in \u001b[0;36mDataAnalyzer.mean\u001b[1;34m(self)\u001b[0m\n\u001b[0;32m      6\u001b[0m \u001b[38;5;28;01mdef\u001b[39;00m \u001b[38;5;21mmean\u001b[39m(\u001b[38;5;28mself\u001b[39m):\n\u001b[1;32m----> 7\u001b[0m     \u001b[38;5;28;01mreturn\u001b[39;00m statistics\u001b[38;5;241m.\u001b[39mmean(\u001b[38;5;28mself\u001b[39m\u001b[38;5;241m.\u001b[39mdata)\n",
      "File \u001b[1;32mc:\\Users\\zpetk\\anaconda3\\Lib\\statistics.py:432\u001b[0m, in \u001b[0;36mmean\u001b[1;34m(data)\u001b[0m\n\u001b[0;32m    430\u001b[0m T, total, n \u001b[38;5;241m=\u001b[39m _sum(data)\n\u001b[0;32m    431\u001b[0m \u001b[38;5;28;01mif\u001b[39;00m n \u001b[38;5;241m<\u001b[39m \u001b[38;5;241m1\u001b[39m:\n\u001b[1;32m--> 432\u001b[0m     \u001b[38;5;28;01mraise\u001b[39;00m StatisticsError(\u001b[38;5;124m'\u001b[39m\u001b[38;5;124mmean requires at least one data point\u001b[39m\u001b[38;5;124m'\u001b[39m)\n\u001b[0;32m    433\u001b[0m \u001b[38;5;28;01mreturn\u001b[39;00m _convert(total \u001b[38;5;241m/\u001b[39m n, T)\n",
      "\u001b[1;31mStatisticsError\u001b[0m: mean requires at least one data point"
     ]
    }
   ],
   "source": [
    "empty_list = []\n",
    "DataAnalyzer(empty_list).mean() # Trying to run an empty list leads to a StatisticsError"
   ]
  },
  {
   "cell_type": "code",
   "execution_count": 11,
   "metadata": {
    "id": "TiHrGzMf9rAK"
   },
   "outputs": [
    {
     "ename": "TypeError",
     "evalue": "can't convert type 'str' to numerator/denominator",
     "output_type": "error",
     "traceback": [
      "\u001b[1;31m---------------------------------------------------------------------------\u001b[0m",
      "\u001b[1;31mAttributeError\u001b[0m                            Traceback (most recent call last)",
      "File \u001b[1;32mc:\\Users\\zpetk\\anaconda3\\Lib\\statistics.py:327\u001b[0m, in \u001b[0;36m_exact_ratio\u001b[1;34m(x)\u001b[0m\n\u001b[0;32m    325\u001b[0m \u001b[38;5;28;01mtry\u001b[39;00m:\n\u001b[0;32m    326\u001b[0m     \u001b[38;5;66;03m# x may be an Integral ABC.\u001b[39;00m\n\u001b[1;32m--> 327\u001b[0m     \u001b[38;5;28;01mreturn\u001b[39;00m (x\u001b[38;5;241m.\u001b[39mnumerator, x\u001b[38;5;241m.\u001b[39mdenominator)\n\u001b[0;32m    328\u001b[0m \u001b[38;5;28;01mexcept\u001b[39;00m \u001b[38;5;167;01mAttributeError\u001b[39;00m:\n",
      "\u001b[1;31mAttributeError\u001b[0m: 'str' object has no attribute 'numerator'",
      "\nDuring handling of the above exception, another exception occurred:\n",
      "\u001b[1;31mTypeError\u001b[0m                                 Traceback (most recent call last)",
      "Cell \u001b[1;32mIn[11], line 2\u001b[0m\n\u001b[0;32m      1\u001b[0m non_num_list \u001b[38;5;241m=\u001b[39m [\u001b[38;5;124m\"\u001b[39m\u001b[38;5;124ma\u001b[39m\u001b[38;5;124m\"\u001b[39m, \u001b[38;5;124m\"\u001b[39m\u001b[38;5;124mb\u001b[39m\u001b[38;5;124m\"\u001b[39m, \u001b[38;5;124m\"\u001b[39m\u001b[38;5;124mc\u001b[39m\u001b[38;5;124m\"\u001b[39m]\n\u001b[1;32m----> 2\u001b[0m DataAnalyzer(non_num_list)\u001b[38;5;241m.\u001b[39mmean()\n",
      "Cell \u001b[1;32mIn[8], line 7\u001b[0m, in \u001b[0;36mDataAnalyzer.mean\u001b[1;34m(self)\u001b[0m\n\u001b[0;32m      6\u001b[0m \u001b[38;5;28;01mdef\u001b[39;00m \u001b[38;5;21mmean\u001b[39m(\u001b[38;5;28mself\u001b[39m):\n\u001b[1;32m----> 7\u001b[0m     \u001b[38;5;28;01mreturn\u001b[39;00m statistics\u001b[38;5;241m.\u001b[39mmean(\u001b[38;5;28mself\u001b[39m\u001b[38;5;241m.\u001b[39mdata)\n",
      "File \u001b[1;32mc:\\Users\\zpetk\\anaconda3\\Lib\\statistics.py:430\u001b[0m, in \u001b[0;36mmean\u001b[1;34m(data)\u001b[0m\n\u001b[0;32m    414\u001b[0m \u001b[38;5;28;01mdef\u001b[39;00m \u001b[38;5;21mmean\u001b[39m(data):\n\u001b[0;32m    415\u001b[0m \u001b[38;5;250m    \u001b[39m\u001b[38;5;124;03m\"\"\"Return the sample arithmetic mean of data.\u001b[39;00m\n\u001b[0;32m    416\u001b[0m \n\u001b[0;32m    417\u001b[0m \u001b[38;5;124;03m    >>> mean([1, 2, 3, 4, 4])\u001b[39;00m\n\u001b[1;32m   (...)\u001b[0m\n\u001b[0;32m    428\u001b[0m \u001b[38;5;124;03m    If ``data`` is empty, StatisticsError will be raised.\u001b[39;00m\n\u001b[0;32m    429\u001b[0m \u001b[38;5;124;03m    \"\"\"\u001b[39;00m\n\u001b[1;32m--> 430\u001b[0m     T, total, n \u001b[38;5;241m=\u001b[39m _sum(data)\n\u001b[0;32m    431\u001b[0m     \u001b[38;5;28;01mif\u001b[39;00m n \u001b[38;5;241m<\u001b[39m \u001b[38;5;241m1\u001b[39m:\n\u001b[0;32m    432\u001b[0m         \u001b[38;5;28;01mraise\u001b[39;00m StatisticsError(\u001b[38;5;124m'\u001b[39m\u001b[38;5;124mmean requires at least one data point\u001b[39m\u001b[38;5;124m'\u001b[39m)\n",
      "File \u001b[1;32mc:\\Users\\zpetk\\anaconda3\\Lib\\statistics.py:193\u001b[0m, in \u001b[0;36m_sum\u001b[1;34m(data)\u001b[0m\n\u001b[0;32m    191\u001b[0m \u001b[38;5;28;01mfor\u001b[39;00m typ, values \u001b[38;5;129;01min\u001b[39;00m groupby(data, \u001b[38;5;28mtype\u001b[39m):\n\u001b[0;32m    192\u001b[0m     types_add(typ)\n\u001b[1;32m--> 193\u001b[0m     \u001b[38;5;28;01mfor\u001b[39;00m n, d \u001b[38;5;129;01min\u001b[39;00m \u001b[38;5;28mmap\u001b[39m(_exact_ratio, values):\n\u001b[0;32m    194\u001b[0m         count \u001b[38;5;241m+\u001b[39m\u001b[38;5;241m=\u001b[39m \u001b[38;5;241m1\u001b[39m\n\u001b[0;32m    195\u001b[0m         partials[d] \u001b[38;5;241m=\u001b[39m partials_get(d, \u001b[38;5;241m0\u001b[39m) \u001b[38;5;241m+\u001b[39m n\n",
      "File \u001b[1;32mc:\\Users\\zpetk\\anaconda3\\Lib\\statistics.py:330\u001b[0m, in \u001b[0;36m_exact_ratio\u001b[1;34m(x)\u001b[0m\n\u001b[0;32m    328\u001b[0m \u001b[38;5;28;01mexcept\u001b[39;00m \u001b[38;5;167;01mAttributeError\u001b[39;00m:\n\u001b[0;32m    329\u001b[0m     msg \u001b[38;5;241m=\u001b[39m \u001b[38;5;124mf\u001b[39m\u001b[38;5;124m\"\u001b[39m\u001b[38;5;124mcan\u001b[39m\u001b[38;5;124m'\u001b[39m\u001b[38;5;124mt convert type \u001b[39m\u001b[38;5;124m'\u001b[39m\u001b[38;5;132;01m{\u001b[39;00m\u001b[38;5;28mtype\u001b[39m(x)\u001b[38;5;241m.\u001b[39m\u001b[38;5;18m__name__\u001b[39m\u001b[38;5;132;01m}\u001b[39;00m\u001b[38;5;124m'\u001b[39m\u001b[38;5;124m to numerator/denominator\u001b[39m\u001b[38;5;124m\"\u001b[39m\n\u001b[1;32m--> 330\u001b[0m     \u001b[38;5;28;01mraise\u001b[39;00m \u001b[38;5;167;01mTypeError\u001b[39;00m(msg)\n",
      "\u001b[1;31mTypeError\u001b[0m: can't convert type 'str' to numerator/denominator"
     ]
    }
   ],
   "source": [
    "non_num_list = [\"a\", \"b\", \"c\"]\n",
    "DataAnalyzer(non_num_list).mean() # Trying to run an empty list leads to a TypeError"
   ]
  },
  {
   "cell_type": "markdown",
   "metadata": {
    "id": "_Aew4Wgg2dih"
   },
   "source": [
    "#### `test_empty_list`\n",
    "- **Purpose**: Ensures the `mean` method raises an error when called with an empty list.\n",
    "- **Key Points**:\n",
    "  - An empty list cannot have a mean, so the method should raise an error.\n",
    "  - Uses `pytest.raises` to check for `statistics.StatisticsError`."
   ]
  },
  {
   "cell_type": "code",
   "execution_count": 12,
   "metadata": {
    "id": "CJ4SgG-Mc4nH"
   },
   "outputs": [],
   "source": [
    "import pytest\n",
    "\n",
    "def test_empty_list(data):\n",
    "    analyzer = DataAnalyzer(data)\n",
    "    with pytest.raises(statistics.StatisticsError):\n",
    "        analyzer.mean()\n",
    "        \n"
   ]
  },
  {
   "cell_type": "code",
   "execution_count": 13,
   "metadata": {},
   "outputs": [
    {
     "name": "stdout",
     "output_type": "stream",
     "text": [
      "test_mode passed!\n"
     ]
    }
   ],
   "source": [
    "try:\n",
    "    test_empty_list([])\n",
    "    print(\"test_mode passed!\")\n",
    "except AssertionError:\n",
    "    print(\"test_mode failed!\")"
   ]
  },
  {
   "cell_type": "markdown",
   "metadata": {
    "id": "wboyIUd-2xpi"
   },
   "source": [
    "#### `test_non_numeric_data`\n",
    "- **Purpose**: Verifies that the `mean` method raises a `TypeError` when non-numeric data is provided.\n",
    "- **Key Points**:\n",
    "  - The `sum` function cannot handle non-numeric values.\n",
    "  - This test ensures invalid input is handled explicitly."
   ]
  },
  {
   "cell_type": "code",
   "execution_count": 14,
   "metadata": {
    "id": "dV_fR92H2yb6"
   },
   "outputs": [],
   "source": [
    "def test_non_numeric_data(data):\n",
    "    analyzer = DataAnalyzer(data)\n",
    "    with pytest.raises(TypeError):\n",
    "        analyzer.mean()"
   ]
  },
  {
   "cell_type": "code",
   "execution_count": 15,
   "metadata": {},
   "outputs": [
    {
     "ename": "Failed",
     "evalue": "DID NOT RAISE <class 'TypeError'>",
     "output_type": "error",
     "traceback": [
      "\u001b[1;31m---------------------------------------------------------------------------\u001b[0m",
      "\u001b[1;31mFailed\u001b[0m                                    Traceback (most recent call last)",
      "Cell \u001b[1;32mIn[15], line 2\u001b[0m\n\u001b[0;32m      1\u001b[0m \u001b[38;5;28;01mtry\u001b[39;00m:\n\u001b[1;32m----> 2\u001b[0m     test_non_numeric_data([\u001b[38;5;241m1\u001b[39m,\u001b[38;5;241m2\u001b[39m,\u001b[38;5;241m3\u001b[39m])\n\u001b[0;32m      3\u001b[0m     \u001b[38;5;28mprint\u001b[39m(\u001b[38;5;124m\"\u001b[39m\u001b[38;5;124mtest_mode passed!\u001b[39m\u001b[38;5;124m\"\u001b[39m)\n\u001b[0;32m      4\u001b[0m \u001b[38;5;28;01mexcept\u001b[39;00m \u001b[38;5;167;01mAssertionError\u001b[39;00m:\n",
      "Cell \u001b[1;32mIn[14], line 3\u001b[0m, in \u001b[0;36mtest_non_numeric_data\u001b[1;34m(data)\u001b[0m\n\u001b[0;32m      1\u001b[0m \u001b[38;5;28;01mdef\u001b[39;00m \u001b[38;5;21mtest_non_numeric_data\u001b[39m(data):\n\u001b[0;32m      2\u001b[0m     analyzer \u001b[38;5;241m=\u001b[39m DataAnalyzer(data)\n\u001b[1;32m----> 3\u001b[0m     \u001b[38;5;28;01mwith\u001b[39;00m pytest\u001b[38;5;241m.\u001b[39mraises(\u001b[38;5;167;01mTypeError\u001b[39;00m):\n\u001b[0;32m      4\u001b[0m         analyzer\u001b[38;5;241m.\u001b[39mmean()\n",
      "    \u001b[1;31m[... skipping hidden 1 frame]\u001b[0m\n",
      "File \u001b[1;32mc:\\Users\\zpetk\\anaconda3\\Lib\\site-packages\\_pytest\\outcomes.py:198\u001b[0m, in \u001b[0;36mfail\u001b[1;34m(reason, pytrace, msg)\u001b[0m\n\u001b[0;32m    196\u001b[0m __tracebackhide__ \u001b[38;5;241m=\u001b[39m \u001b[38;5;28;01mTrue\u001b[39;00m\n\u001b[0;32m    197\u001b[0m reason \u001b[38;5;241m=\u001b[39m _resolve_msg_to_reason(\u001b[38;5;124m\"\u001b[39m\u001b[38;5;124mfail\u001b[39m\u001b[38;5;124m\"\u001b[39m, reason, msg)\n\u001b[1;32m--> 198\u001b[0m \u001b[38;5;28;01mraise\u001b[39;00m Failed(msg\u001b[38;5;241m=\u001b[39mreason, pytrace\u001b[38;5;241m=\u001b[39mpytrace)\n",
      "\u001b[1;31mFailed\u001b[0m: DID NOT RAISE <class 'TypeError'>"
     ]
    }
   ],
   "source": [
    "try:\n",
    "    test_non_numeric_data([1,2,3])\n",
    "    print(\"test_mode passed!\")\n",
    "except AssertionError:\n",
    "    print(\"test_mode failed!\")"
   ]
  },
  {
   "cell_type": "markdown",
   "metadata": {
    "id": "5iB8Mz2i3Dp_"
   },
   "source": [
    "## Final Challenge Instructions: Rewriting the DataAnalyzer Class\n",
    "For the final challenge, you will modify the `DataAnalyzer` class to calculate the mean, median, and mode manually without using any functions from the statistics library.\n",
    "\n",
    "**Instructions**\n",
    "1. Re-Write the `mean` Method\n",
    "    * Manually calculate the mean using a `for loop` to sum the values in the list.\n",
    "    * Avoid using the `sum` function.\n",
    "    * Round to 1 decimal\n",
    "\n",
    "2. Re-Write the median Method\n",
    "    * Manually calculate the median by:\n",
    "        * Sorting the list.\n",
    "        * Finding the middle value if the list has an odd number of elements.\n",
    "        * Averaging the two middle values if the list has an even number of elements.\n",
    "\n",
    "3. Re-Write the mode Method\n",
    "    * Manually calculate the mode by:\n",
    "        * Counting the frequency of each number in the list using a dictionary.\n",
    "        * Identifying the number with the highest frequency.\n",
    "\n",
    "4. Test Your Implementation\n",
    "    * Use the provided test functions (test_mean, test_median, test_mode) to verify your manual implementations work correctly.\n",
    "    * Run your tests using pytest or manually in the notebook."
   ]
  },
  {
   "cell_type": "code",
   "execution_count": null,
   "metadata": {
    "id": "_J-NcaPpFsi5"
   },
   "outputs": [],
   "source": [
    "class DataAnalyzer:\n",
    "    def __init__(self, data):\n",
    "        \"\"\"\n",
    "        Initializes the DataAnalyzer with a list of numeric values.\n",
    "        \"\"\"\n",
    "\n",
    "\n",
    "    def mean(self):\n",
    "        \"\"\"Manually calculates the mean of the numeric data.\"\"\"\n",
    "\n",
    "\n",
    "    def median(self):\n",
    "        \"\"\"Manually calculates the median of the numeric data.\"\"\"\n",
    "\n",
    "\n",
    "    def mode(self):\n",
    "        \"\"\"Manually calculates the mode of the numeric data.\"\"\"\n",
    "\n"
   ]
  },
  {
   "cell_type": "code",
   "execution_count": null,
   "metadata": {
    "id": "HCIZsAh532ls"
   },
   "outputs": [],
   "source": [
    "# First Test: test_mean\n",
    "def test_mean(data_list, mean_value):\n",
    "\n",
    "\n",
    "# Create test function for median\n",
    "def test_median(data_list, median_value):\n",
    "\n",
    "\n",
    "# Create test function for mode\n",
    "def test_mode(data_list, mode_value):\n",
    "\n",
    "\n",
    "# Run test functions\n"
   ]
  }
 ],
 "metadata": {
  "colab": {
   "authorship_tag": "ABX9TyP9mrVwgnTI6Z2Ly+Zxpb8z",
   "provenance": [
    {
     "file_id": "115ikyO48oYr6VRXJy1bnZdwa8gCyMTRI",
     "timestamp": 1737639966076
    },
    {
     "file_id": "1jlVNO_tvryAJvdmk_lwQHGFrV_xlz48y",
     "timestamp": 1737639663399
    }
   ]
  },
  "kernelspec": {
   "display_name": "base",
   "language": "python",
   "name": "python3"
  },
  "language_info": {
   "codemirror_mode": {
    "name": "ipython",
    "version": 3
   },
   "file_extension": ".py",
   "mimetype": "text/x-python",
   "name": "python",
   "nbconvert_exporter": "python",
   "pygments_lexer": "ipython3",
   "version": "3.11.5"
  }
 },
 "nbformat": 4,
 "nbformat_minor": 0
}
